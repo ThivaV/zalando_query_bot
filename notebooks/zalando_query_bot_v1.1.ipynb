{
 "cells": [
  {
   "cell_type": "markdown",
   "metadata": {},
   "source": [
    "# Zalando Bot: AI-Powered Fashion Assistant"
   ]
  },
  {
   "cell_type": "markdown",
   "metadata": {},
   "source": [
    "> Retriever - Hybrid search with Milvus"
   ]
  },
  {
   "cell_type": "code",
   "execution_count": null,
   "metadata": {},
   "outputs": [],
   "source": [
    "%pip install -U pymilvus"
   ]
  },
  {
   "cell_type": "code",
   "execution_count": 14,
   "metadata": {},
   "outputs": [],
   "source": [
    "import os\n",
    "import json\n",
    "import numpy as np                          # type: ignore\n",
    "import pandas as pd                         # type: ignore\n",
    "from PIL import Image                       # type: ignore\n",
    "import matplotlib.pyplot as plt             # type: ignore\n",
    "from tqdm.autonotebook import tqdm, trange  # type: ignore\n",
    "from tqdm import tqdm                       # type: ignore"
   ]
  },
  {
   "cell_type": "code",
   "execution_count": 79,
   "metadata": {},
   "outputs": [],
   "source": [
    "from langchain.retrievers import BM25Retriever      # type: ignore\n",
    "from langchain.document_loaders import TextLoader   # type: ignore\n",
    "from langchain.schema import Document               # type: ignore"
   ]
  },
  {
   "cell_type": "code",
   "execution_count": null,
   "metadata": {},
   "outputs": [],
   "source": [
    "from sentence_transformers import SentenceTransformer   # type: ignore\n",
    "import torch                                            # type: ignore"
   ]
  },
  {
   "cell_type": "markdown",
   "metadata": {},
   "source": [
    "## Load dataset"
   ]
  },
  {
   "cell_type": "code",
   "execution_count": 69,
   "metadata": {},
   "outputs": [],
   "source": [
    "img_uri = '../data/master_data/hf_df_x300'\n",
    "metadata_uri = '../data/master_data/metadata.csv'"
   ]
  },
  {
   "cell_type": "code",
   "execution_count": null,
   "metadata": {},
   "outputs": [],
   "source": [
    "metadata = pd.read_csv(metadata_uri)\n",
    "metadata.head()"
   ]
  },
  {
   "cell_type": "code",
   "execution_count": null,
   "metadata": {},
   "outputs": [],
   "source": [
    "metadata.info()"
   ]
  },
  {
   "cell_type": "code",
   "execution_count": null,
   "metadata": {},
   "outputs": [],
   "source": [
    "# add x100_img image uri\n",
    "metadata['img_uri'] = metadata['x300_img'].apply(lambda i: os.path.join(img_uri, i))\n",
    "\n",
    "# drop image tags\n",
    "metadata.drop(columns=['x100_img', 'x300_img'], inplace=True)\n",
    "\n",
    "metadata.head()"
   ]
  },
  {
   "cell_type": "code",
   "execution_count": null,
   "metadata": {},
   "outputs": [],
   "source": [
    "image = Image.open(metadata.iloc[0]['img_uri'])\n",
    "\n",
    "# show img inline\n",
    "plt.imshow(image)\n",
    "\n",
    "# hide axes\n",
    "plt.axis('off')\n",
    "\n",
    "plt.show()"
   ]
  },
  {
   "cell_type": "markdown",
   "metadata": {},
   "source": [
    "## Sparse Vectors"
   ]
  },
  {
   "cell_type": "code",
   "execution_count": 87,
   "metadata": {},
   "outputs": [],
   "source": [
    "def create_product_description(row):\n",
    "    # extract the necessary columns\n",
    "    sku = row['sku']\n",
    "    name = row['name']\n",
    "    brand = row['brand']\n",
    "    category = json.loads(json.dumps(row['category']))\n",
    "    url = row['url']\n",
    "    sizes = json.loads(json.dumps(row['sizes']))\n",
    "    classification = json.loads(json.dumps(row['classification']))\n",
    "    original_price = row['original_price']\n",
    "    discount_percentage = row['discount_percentage']\n",
    "    promotional_price = row['promotional_price']\n",
    "\n",
    "    # start building the description\n",
    "    description = f\"Product Name: {name} by {brand}.\\n\"\n",
    "\n",
    "    if len(category) != 0:\n",
    "        description += f\"Category: {category}.\\n\"\n",
    "    if len(classification) != 0:\n",
    "        description += f\"Status: {classification}.\\n\"\n",
    "\n",
    "    # add available sizes, if present\n",
    "    if len(sizes) != 0:\n",
    "        description += f\"Available Sizes: {sizes}.\\n\"\n",
    "    \n",
    "    # add price and promotional information\n",
    "    if pd.notna(original_price) and pd.notna(promotional_price):\n",
    "        description += f\"Original Price: {original_price}, now available for {promotional_price}.\\n\"\n",
    "        if pd.notna(discount_percentage):\n",
    "            description += f\"Discount: {discount_percentage} off.\\n\"\n",
    "    elif pd.notna(original_price):\n",
    "        description += f\"Price: {original_price}.\\n\"\n",
    "    \n",
    "    # add URL for reference\n",
    "    description += f\"More details can be found at: {url}.\\n\"\n",
    "    \n",
    "    # add SKU (if relevant for your use case)\n",
    "    description += f\"SKU: {sku}.\"\n",
    "    \n",
    "    return description"
   ]
  },
  {
   "cell_type": "code",
   "execution_count": null,
   "metadata": {},
   "outputs": [],
   "source": [
    "metadata['description'] = metadata.apply(create_product_description, axis=1)\n",
    "metadata.head()"
   ]
  },
  {
   "cell_type": "code",
   "execution_count": null,
   "metadata": {},
   "outputs": [],
   "source": [
    "metadata.iloc[0]['description']"
   ]
  },
  {
   "cell_type": "code",
   "execution_count": 93,
   "metadata": {},
   "outputs": [],
   "source": [
    "# convert the text data into a list of Document objects (required by BM25Retriever)\n",
    "documents = [Document(page_content=f\"SKU: {row['sku']}, Description: {row['description']}\") for idx, row in metadata.iterrows()]\n",
    "\n",
    "# initialize BM25 retriever with the documents\n",
    "bm25_retriever = BM25Retriever.from_documents(documents)"
   ]
  },
  {
   "cell_type": "code",
   "execution_count": null,
   "metadata": {},
   "outputs": [],
   "source": [
    "result = bm25_retriever.invoke(\"Blue colour coat\")\n",
    "result"
   ]
  },
  {
   "cell_type": "markdown",
   "metadata": {},
   "source": [
    "## Dence Vectors"
   ]
  },
  {
   "cell_type": "code",
   "execution_count": null,
   "metadata": {},
   "outputs": [],
   "source": [
    "device = 'cuda' if torch.cuda.is_available() else 'cpu'\n",
    "print('Device: ', device)\n",
    "\n",
    "# load a CLIP model from huggingface\n",
    "model = SentenceTransformer(\n",
    "    'sentence-transformers/clip-ViT-B-32',\n",
    "    device=device\n",
    ")"
   ]
  }
 ],
 "metadata": {
  "kernelspec": {
   "display_name": "Python 3",
   "language": "python",
   "name": "python3"
  },
  "language_info": {
   "codemirror_mode": {
    "name": "ipython",
    "version": 3
   },
   "file_extension": ".py",
   "mimetype": "text/x-python",
   "name": "python",
   "nbconvert_exporter": "python",
   "pygments_lexer": "ipython3",
   "version": "3.9.0"
  }
 },
 "nbformat": 4,
 "nbformat_minor": 2
}
