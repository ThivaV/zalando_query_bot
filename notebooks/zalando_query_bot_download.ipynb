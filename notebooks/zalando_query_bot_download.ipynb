{
 "cells": [
  {
   "cell_type": "code",
   "execution_count": 1,
   "metadata": {},
   "outputs": [
    {
     "name": "stdout",
     "output_type": "stream",
     "text": [
      "Note: you may need to restart the kernel to use updated packages.\n"
     ]
    }
   ],
   "source": [
    "%pip install -qU gdown"
   ]
  },
  {
   "cell_type": "markdown",
   "metadata": {},
   "source": [
    "# Extracting Datasets"
   ]
  },
  {
   "cell_type": "code",
   "execution_count": null,
   "metadata": {},
   "outputs": [],
   "source": [
    "import os\n",
    "import tarfile\n",
    "import gdown    # type: ignore"
   ]
  },
  {
   "cell_type": "code",
   "execution_count": null,
   "metadata": {},
   "outputs": [],
   "source": [
    "# download zalando_fashionista_x300 images\n",
    "source = \"https://drive.google.com/uc?/export=download&id=1feyHwTM9jZ_7ZR5r4N-2RpxP0NOXfMkO\"\n",
    "destination = \"../data/master_data/\"\n",
    "gdown.download(source, destination)\n",
    "\n",
    "# extract tar\n",
    "file = tarfile.open(os.path.join(destination, \"zalando_fashionista_x300.tar.gz\"))\n",
    "file.extractall(destination)"
   ]
  },
  {
   "cell_type": "code",
   "execution_count": null,
   "metadata": {},
   "outputs": [],
   "source": [
    "# download zalando metadata.csv\n",
    "source = \"https://drive.google.com/uc?/export=download&id=1jxamr7aetqzKUDgSE_QO4aaecPhpJktG\"\n",
    "destination = \"../data/master_data/\"\n",
    "gdown.download(source, destination)"
   ]
  },
  {
   "cell_type": "code",
   "execution_count": null,
   "metadata": {},
   "outputs": [],
   "source": [
    "# download zalando milvus vector database for Zalando\n",
    "source = \"https://drive.google.com/uc?/export=download&id=1iEfkvXc8bOnVSdp5pCH48RiHkcgQZMzk\"\n",
    "destination = \"../data/db/milvus_db/\"\n",
    "gdown.download(source, destination)"
   ]
  }
 ],
 "metadata": {
  "kernelspec": {
   "display_name": "Python 3",
   "language": "python",
   "name": "python3"
  },
  "language_info": {
   "codemirror_mode": {
    "name": "ipython",
    "version": 3
   },
   "file_extension": ".py",
   "mimetype": "text/x-python",
   "name": "python",
   "nbconvert_exporter": "python",
   "pygments_lexer": "ipython3",
   "version": "3.11.0"
  }
 },
 "nbformat": 4,
 "nbformat_minor": 2
}
