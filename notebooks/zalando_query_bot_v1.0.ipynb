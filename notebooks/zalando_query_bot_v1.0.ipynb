{
 "cells": [
  {
   "cell_type": "markdown",
   "metadata": {},
   "source": [
    "# Zalando Bot: AI-Powered Fashion Assistant"
   ]
  },
  {
   "cell_type": "markdown",
   "metadata": {},
   "source": [
    "> Retriever - Hybrid search with Pinecone"
   ]
  },
  {
   "cell_type": "code",
   "execution_count": null,
   "metadata": {},
   "outputs": [],
   "source": [
    "%pip install -qU pinecone\n",
    "%pip install -qU pinecone-client pinecone-text pinecone-notebooks"
   ]
  },
  {
   "cell_type": "code",
   "execution_count": 1,
   "metadata": {},
   "outputs": [],
   "source": [
    "import os                                   # type: ignore\n",
    "import time\n",
    "import pandas as pd                         # type: ignore\n",
    "import matplotlib.pyplot as plt             # type: ignore\n",
    "from tqdm import tqdm                       # type: ignore\n",
    "from tqdm.notebook import tqdm              # type: ignore\n",
    "from PIL import Image                       # type: ignore\n",
    "from IPython.core.display import HTML       # type: ignore\n",
    "from io import BytesIO\n",
    "from base64 import b64encode\n",
    "\n",
    "import nltk                                 # type: ignore\n",
    "nltk.download('punkt_tab')"
   ]
  },
  {
   "cell_type": "code",
   "execution_count": 3,
   "metadata": {},
   "outputs": [],
   "source": [
    "from pinecone import Pinecone, ServerlessSpec   # type: ignore\n",
    "from pinecone_text.sparse import BM25Encoder    # type: ignore"
   ]
  },
  {
   "cell_type": "code",
   "execution_count": 4,
   "metadata": {},
   "outputs": [],
   "source": [
    "import torch                                            # type: ignore\n",
    "from sentence_transformers import SentenceTransformer   # type: ignore"
   ]
  },
  {
   "cell_type": "code",
   "execution_count": null,
   "metadata": {},
   "outputs": [],
   "source": [
    "from dotenv import load_dotenv                          # type: ignore\n",
    "load_dotenv()"
   ]
  },
  {
   "cell_type": "markdown",
   "metadata": {},
   "source": [
    "## Load datset"
   ]
  },
  {
   "cell_type": "code",
   "execution_count": 46,
   "metadata": {},
   "outputs": [],
   "source": [
    "# load the dataset\n",
    "img_uri = '../data/master_data/zalando_fashionista_x300'\n",
    "metadata_uri = '../data/master_data/metadata.csv'"
   ]
  },
  {
   "cell_type": "code",
   "execution_count": null,
   "metadata": {},
   "outputs": [],
   "source": [
    "metadata = pd.read_csv(metadata_uri)\n",
    "metadata.head()"
   ]
  },
  {
   "cell_type": "code",
   "execution_count": null,
   "metadata": {},
   "outputs": [],
   "source": [
    "len(metadata)"
   ]
  },
  {
   "cell_type": "markdown",
   "metadata": {},
   "source": [
    "## Preprocess dataset"
   ]
  },
  {
   "cell_type": "markdown",
   "metadata": {},
   "source": [
    "### Process image"
   ]
  },
  {
   "cell_type": "code",
   "execution_count": null,
   "metadata": {},
   "outputs": [],
   "source": [
    "# add x300_img image uri\n",
    "metadata['img_uri'] = metadata['x300_img'].apply(lambda i: os.path.join(img_uri, i))\n",
    "\n",
    "# drop image tags\n",
    "metadata.drop(columns=['x100_img', 'x300_img'], inplace=True)\n",
    "\n",
    "metadata.head()"
   ]
  },
  {
   "cell_type": "code",
   "execution_count": null,
   "metadata": {},
   "outputs": [],
   "source": [
    "image = Image.open(metadata.iloc[0]['img_uri'])\n",
    "image"
   ]
  },
  {
   "cell_type": "markdown",
   "metadata": {},
   "source": [
    "### Process metadata"
   ]
  },
  {
   "cell_type": "code",
   "execution_count": null,
   "metadata": {},
   "outputs": [],
   "source": [
    "metadata.fillna(0, inplace=True)\n",
    "metadata.head()"
   ]
  },
  {
   "cell_type": "code",
   "execution_count": 54,
   "metadata": {},
   "outputs": [],
   "source": [
    "def create_product_description(row):\n",
    "    # extract the necessary columns\n",
    "    sku = row['sku']\n",
    "    name = row['name']\n",
    "    brand = row['brand']\n",
    "    category = row['category']\n",
    "    url = row['url']\n",
    "    sizes = row['sizes']\n",
    "    classification = row['classification']\n",
    "    original_price = row['original_price']\n",
    "    discount_percentage = row['discount_percentage']\n",
    "    promotional_price = row['promotional_price']\n",
    "\n",
    "    # add SKU (if relevant for your use case)\n",
    "    description = f\"SKU: {sku}.\\n\"\n",
    "\n",
    "    # start building the description\n",
    "    description += f\"Product Name: {name} by {brand}.\\n\"\n",
    "    description += f\"Category: {category}. Status: {classification}.\\n\"\n",
    "\n",
    "    # add available sizes, if present\n",
    "    if pd.notna(sizes):\n",
    "        description += f\"Available Sizes: {sizes}.\\n\"\n",
    "    \n",
    "    # add price and promotional information\n",
    "    if pd.notna(original_price) and pd.notna(promotional_price) and original_price != 0 and promotional_price != 0:\n",
    "        description += f\"Original Price: {original_price}, now available for {promotional_price}.\\n\"\n",
    "        if pd.notna(discount_percentage) and discount_percentage != 0:\n",
    "            description += f\"Discount: {discount_percentage} off.\\n\"\n",
    "    elif pd.notna(original_price) and original_price != 0:\n",
    "        description += f\"Price: {original_price}.\\n\"\n",
    "    \n",
    "    # add URL for reference\n",
    "    description += f\"More details can be found at: {url}.\\n\"   \n",
    "    \n",
    "    return description"
   ]
  },
  {
   "cell_type": "code",
   "execution_count": null,
   "metadata": {},
   "outputs": [],
   "source": [
    "metadata['description'] = metadata.apply(create_product_description, axis=1)\n",
    "metadata.head()"
   ]
  },
  {
   "cell_type": "code",
   "execution_count": null,
   "metadata": {},
   "outputs": [],
   "source": [
    "metadata.iloc[0]['description'], metadata.iloc[1]['description'], metadata.iloc[100]['description']"
   ]
  },
  {
   "cell_type": "markdown",
   "metadata": {},
   "source": [
    "## Connect to Pinecorn"
   ]
  },
  {
   "cell_type": "code",
   "execution_count": 60,
   "metadata": {},
   "outputs": [],
   "source": [
    "pc = Pinecone(api_key=os.getenv(\"PINECONE_API_KEY\"))"
   ]
  },
  {
   "cell_type": "code",
   "execution_count": null,
   "metadata": {},
   "outputs": [],
   "source": [
    "index_name = \"zalando-query-retriever\"\n",
    "\n",
    "# check if index already exists (it shouldn't if this is first time)\n",
    "if index_name not in pc.list_indexes().names():\n",
    "    pc.create_index(\n",
    "        name=index_name,\n",
    "        dimension=512,\n",
    "        metric=\"dotproduct\",\n",
    "        spec=ServerlessSpec(\n",
    "            cloud=\"aws\",\n",
    "            region=\"us-east-1\"\n",
    "        ) \n",
    "    )\n",
    "\n",
    "    # wait for index to be initialized\n",
    "    while not pc.describe_index(index_name).status['ready']:\n",
    "        time.sleep(1)\n",
    "\n",
    "# connect to index\n",
    "index = pc.Index(index_name)\n",
    "\n",
    "# view index stats\n",
    "index.describe_index_stats()"
   ]
  },
  {
   "cell_type": "markdown",
   "metadata": {},
   "source": [
    "## Sparse Vectors"
   ]
  },
  {
   "cell_type": "code",
   "execution_count": 62,
   "metadata": {},
   "outputs": [],
   "source": [
    "# initialize bn25 sparse embedding\n",
    "bm25 = BM25Encoder()\n",
    "bm25.fit(metadata['description'])"
   ]
  },
  {
   "cell_type": "code",
   "execution_count": null,
   "metadata": {},
   "outputs": [],
   "source": [
    "# get the sparse embedding for the text using BM25\n",
    "desc = metadata.iloc[0]['description']\n",
    "sparse_embedding = bm25.embed_documents(desc)\n",
    "print(\"Description:\\n\", desc, \"\\nSparse embedding:\\n\", sparse_embedding)"
   ]
  },
  {
   "cell_type": "code",
   "execution_count": null,
   "metadata": {},
   "outputs": [],
   "source": [
    "# get sparse vector for query\n",
    "description = \"I want blue jeans\"\n",
    "bm25.encode_queries(description)"
   ]
  },
  {
   "cell_type": "code",
   "execution_count": null,
   "metadata": {},
   "outputs": [],
   "source": [
    "bm25.encode_queries(metadata.iloc[0]['description'])"
   ]
  },
  {
   "cell_type": "markdown",
   "metadata": {},
   "source": [
    "## Dence Vectors"
   ]
  },
  {
   "cell_type": "code",
   "execution_count": null,
   "metadata": {},
   "outputs": [],
   "source": [
    "device = 'cuda' if torch.cuda.is_available() else 'cpu'\n",
    "print('Device: ', device)\n",
    "\n",
    "# load a CLIP model from huggingface\n",
    "model = SentenceTransformer(\n",
    "    'sentence-transformers/clip-ViT-B-32',\n",
    "    device=device\n",
    ")\n",
    "model"
   ]
  },
  {
   "cell_type": "markdown",
   "metadata": {},
   "source": [
    "## Upsert Documents"
   ]
  },
  {
   "cell_type": "code",
   "execution_count": null,
   "metadata": {},
   "outputs": [],
   "source": [
    "# define the batch size\n",
    "batch_size = 200\n",
    "\n",
    "# initialize an empty list to store items\n",
    "items = []\n",
    "\n",
    "# iterate over the rows in the DataFrame\n",
    "for idx, row in tqdm(metadata.iterrows()):\n",
    "    # generate a unique ID\n",
    "    id = row['sku']\n",
    "\n",
    "    # create a dictionary of metadata\n",
    "    meta_dict = row.to_dict()\n",
    "\n",
    "    # create sparse BM25 vectors\n",
    "    sparse_embeds = bm25.encode_queries(row['description'])\n",
    "\n",
    "    # create dense vectors from the image URI\n",
    "    dense_embeds = model.encode(Image.open(row['img_uri']))\n",
    "\n",
    "    # append the item dictionary to the items list\n",
    "    items.append({\n",
    "        'id': id,\n",
    "        'sparse_values': sparse_embeds,\n",
    "        'values': dense_embeds,\n",
    "        'metadata': meta_dict\n",
    "    })\n",
    "\n",
    "    # if the number of items reaches the batch size, upload the batch\n",
    "    if len(items) >= batch_size:\n",
    "        # upsert the current batch of items to the index\n",
    "        index.upsert(items)\n",
    "        \n",
    "        # clear the items list to prepare for the next batch\n",
    "        items.clear()\n",
    "\n",
    "# after the loop, if there are any remaining items, upload them\n",
    "if items:\n",
    "    index.upsert(items)\n",
    "\n",
    "# show the index description after uploading the documents\n",
    "index.describe_index_stats()"
   ]
  },
  {
   "cell_type": "markdown",
   "metadata": {},
   "source": [
    "## Hybrid search"
   ]
  },
  {
   "cell_type": "code",
   "execution_count": 84,
   "metadata": {},
   "outputs": [],
   "source": [
    "# function to display product images\n",
    "def display_result(image_batch):\n",
    "    figures = []\n",
    "    for img in image_batch:\n",
    "        b = BytesIO()  \n",
    "        img.save(b, format='png')\n",
    "        figures.append(f'''\n",
    "            <figure style=\"margin: 5px !important;\">\n",
    "              <img src=\"data:image/png;base64,{b64encode(b.getvalue()).decode('utf-8')}\" style=\"width: 90px; height: 120px\" >\n",
    "            </figure>\n",
    "        ''')\n",
    "    return HTML(data=f'''\n",
    "        <div style=\"display: flex; flex-flow: row wrap; text-align: center;\">\n",
    "        {''.join(figures)}\n",
    "        </div>\n",
    "    ''')"
   ]
  },
  {
   "cell_type": "markdown",
   "metadata": {},
   "source": [
    "### Method - 1"
   ]
  },
  {
   "cell_type": "code",
   "execution_count": null,
   "metadata": {},
   "outputs": [],
   "source": [
    "query = \"dark blue french connection jeans for men\"\n",
    "\n",
    "# create sparse and dense vectors\n",
    "sparse = bm25.encode_queries(query)\n",
    "dense = model.encode(query).tolist()\n",
    "\n",
    "# search\n",
    "result = index.query(\n",
    "    top_k=5,\n",
    "    vector=dense,\n",
    "    sparse_vector=sparse,\n",
    "    include_metadata=True\n",
    ")\n",
    "\n",
    "imgs = []\n",
    "garments = [item['id'] for item in result['matches']]\n",
    "for garment in garments:\n",
    "    img = Image.open(metadata[metadata['sku']==garment]['img_uri'].values[0])\n",
    "    imgs.append(img)\n",
    "\n",
    "display_result(imgs)"
   ]
  },
  {
   "cell_type": "markdown",
   "metadata": {},
   "source": [
    "### Method - 2"
   ]
  },
  {
   "cell_type": "code",
   "execution_count": 86,
   "metadata": {},
   "outputs": [],
   "source": [
    "def hybrid_scale(dense, sparse, alpha: float):\n",
    "    \"\"\"Hybrid vector scaling using a convex combination\n",
    "\n",
    "    alpha * dense + (1 - alpha) * sparse\n",
    "\n",
    "    Args:\n",
    "        dense: Array of floats representing\n",
    "        sparse: a dict of `indices` and `values`\n",
    "        alpha: float between 0 and 1 where 0 == sparse only\n",
    "               and 1 == dense only\n",
    "    \"\"\"\n",
    "    if alpha < 0 or alpha > 1:\n",
    "        raise ValueError(\"Alpha must be between 0 and 1\")\n",
    "    # scale sparse and dense vectors to create hybrid search vecs\n",
    "    hsparse = {\n",
    "        'indices': sparse['indices'],\n",
    "        'values':  [v * (1 - alpha) for v in sparse['values']]\n",
    "    }\n",
    "    hdense = [v * alpha for v in dense]\n",
    "    return hdense, hsparse"
   ]
  },
  {
   "cell_type": "code",
   "execution_count": null,
   "metadata": {},
   "outputs": [],
   "source": [
    "query = \"soft purple topwear\"\n",
    "\n",
    "# create sparse and dense vectors\n",
    "sparse = bm25.encode_queries(query)\n",
    "dense = model.encode(query).tolist()\n",
    "\n",
    "# scale sparse and dense vectors\n",
    "hdense, hsparse = hybrid_scale(dense, sparse, alpha=0.05)\n",
    "\n",
    "# search\n",
    "result = index.query(\n",
    "    top_k=5,\n",
    "    vector=hdense,\n",
    "    sparse_vector=hsparse,\n",
    "    include_metadata=True\n",
    ")\n",
    "\n",
    "imgs = []\n",
    "garments = [item['id'] for item in result['matches']]\n",
    "for garment in garments:\n",
    "    img = Image.open(metadata[metadata['sku']==garment]['img_uri'].values[0])\n",
    "    imgs.append(img)\n",
    "\n",
    "display_result(imgs)"
   ]
  },
  {
   "cell_type": "markdown",
   "metadata": {},
   "source": [
    "## Delete the Index"
   ]
  },
  {
   "cell_type": "code",
   "execution_count": 104,
   "metadata": {},
   "outputs": [],
   "source": [
    "pc.delete_index(index_name)"
   ]
  }
 ],
 "metadata": {
  "kernelspec": {
   "display_name": "Python 3",
   "language": "python",
   "name": "python3"
  },
  "language_info": {
   "codemirror_mode": {
    "name": "ipython",
    "version": 3
   },
   "file_extension": ".py",
   "mimetype": "text/x-python",
   "name": "python",
   "nbconvert_exporter": "python",
   "pygments_lexer": "ipython3",
   "version": "3.11.0"
  }
 },
 "nbformat": 4,
 "nbformat_minor": 2
}
